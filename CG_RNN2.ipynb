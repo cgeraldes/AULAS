{
  "nbformat": 4,
  "nbformat_minor": 0,
  "metadata": {
    "colab": {
      "provenance": [],
      "authorship_tag": "ABX9TyObTkPyhr+kxwzkiupoV7dp",
      "include_colab_link": true
    },
    "kernelspec": {
      "name": "python3",
      "display_name": "Python 3"
    },
    "language_info": {
      "name": "python"
    }
  },
  "cells": [
    {
      "cell_type": "markdown",
      "metadata": {
        "id": "view-in-github",
        "colab_type": "text"
      },
      "source": [
        "<a href=\"https://colab.research.google.com/github/cgeraldes/AULAS/blob/main/CG_RNN2.ipynb\" target=\"_parent\"><img src=\"https://colab.research.google.com/assets/colab-badge.svg\" alt=\"Open In Colab\"/></a>"
      ]
    },
    {
      "cell_type": "code",
      "execution_count": null,
      "metadata": {
        "id": "uY-2WzJqvGCD"
      },
      "outputs": [],
      "source": [
        "# Importing the numpy library and setting a random\n",
        "# seed for reproducibility\n",
        "import numpy as np\n",
        "np.random.seed(42)\n",
        "\n",
        "# Reading the contents of the 'sequence.txt' file\n",
        "# and stripping any leading/trailing whitespace\n",
        "#data = open('sequence.txt', 'r').read().strip()\n",
        "data = \"abbabbabbabbabbabbabbabbabbabbabbabbabbabbabbabbabbabbabbabbabbabb\"\n"
      ]
    },
    {
      "cell_type": "code",
      "source": [
        "# Creating dictionaries to map characters\n",
        "# to indices and vice versa\n",
        "# Mapping from character to index\n",
        "char_to_ix = { ch: i for i, ch in enumerate(chars) }\n",
        "# Mapping from index to character\n",
        "ix_to_char = { i: ch for i, ch in enumerate(chars) }\n",
        "\n",
        "# Extracting unique characters from the data and\n",
        "# determining the size of the data and vocabulary\n",
        "chars = list(set(data)) # Get unique characters\n",
        "data_size = len(data)   # Total number of characters in data\n",
        "vocab_size = len(chars) # Number of unique characters in data\n",
        "\n",
        "# Printing information about the data\n",
        "print('data has %d total characters.' % (data_size))\n",
        "print('data has %d unique characters.' % (vocab_size))\n"
      ],
      "metadata": {
        "id": "Uh2o8I7evja2"
      },
      "execution_count": null,
      "outputs": []
    },
    {
      "cell_type": "code",
      "source": [
        "# hyperparameters\n",
        "hidden_size = 3 # size of hidden layer of neurons\n",
        "seq_length = 4  # number of steps to unroll the RNN for\n",
        "learning_rate = 1e-1\n",
        "\n",
        "# model parameters\n",
        "# input to hidden\n",
        "input_weights_U = np.random.randn(hidden_size, vocab_size) * 0.1\n",
        "# hidden to hidden\n",
        "hidden_weights_W = np.random.randn(hidden_size, hidden_size) * 0.1\n",
        "# hidden bias\n",
        "hidden_bias = np.zeros((hidden_size, 1))\n",
        "# hidden to output\n",
        "output_weights_V = np.random.randn(vocab_size, hidden_size) * 0.1\n",
        "# output bias\n",
        "output_bias = np.zeros((vocab_size, 1))"
      ],
      "metadata": {
        "id": "im7Npxp0vzCS"
      },
      "execution_count": null,
      "outputs": []
    },
    {
      "cell_type": "code",
      "source": [
        "def RNNcore(inputs, targets, hidden_state_prev):\n",
        "  xs, hidden_states, outputs, probabilities = {}, {}, {}, {}\n",
        "  hidden_states[-1] = np.copy(hidden_state_prev)\n",
        "  loss = 0\n",
        "  # forward pass\n",
        "  for t in range(len(inputs)):\n",
        "    # one-hot-encoding the input character\n",
        "    xs[t] = np.zeros((vocab_size,1))\n",
        "    character = inputs[t]\n",
        "    target = targets[t]\n",
        "    xs[t][character] = 1\n",
        "    # Compute hidden state\n",
        "    hidden_states[t] = np.tanh(input_weights_U @ xs[t] +\\\n",
        " hidden_weights_W @ hidden_states[t-1] + hidden_bias)\n",
        "    # Compute output and probabilities\n",
        "    outputs[t] = output_weights_V @ hidden_states[t] +\\\n",
        "     output_bias\n",
        "    probabilities[t] =\\\n",
        "      np.exp(outputs[t]) / np.sum(np.exp(outputs[t]))\n",
        "    #Compute softmax (cross-entropy loss)\n",
        "    loss += -np.log(probabilities[t][target,0])"
      ],
      "metadata": {
        "id": "5Ah3W1V4wdk5"
      },
      "execution_count": null,
      "outputs": []
    },
    {
      "cell_type": "code",
      "source": [
        "# Prepare backward pass:\n",
        "  input_weights_U_grad = np.zeros_like(input_weights_U)\n",
        "  hidden_weights_W_grad = np.zeros_like(hidden_weights_W)\n",
        "  hidden_bias_grad = np.zeros_like(hidden_bias)\n",
        "  output_weights_V_grad = np.zeros_like(output_weights_V)\n",
        "  output_bias_grad = np.zeros_like(output_bias)\n",
        "\n",
        "  hidden_state_next_grad = np.zeros_like(hidden_states[0])"
      ],
      "metadata": {
        "id": "FtUcDHZowjEO"
      },
      "execution_count": null,
      "outputs": []
    },
    {
      "cell_type": "code",
      "source": [
        "# backward pass: compute gradients going backwards\n",
        "\n",
        "for t in reversed(range(len(inputs))):\n",
        "    output_grad = np.copy(probabilities[t])\n",
        "    output_grad[targets[t]] -= 1\n",
        "    output_weights_V_grad += output_grad @ hidden_states[t].T\n",
        "    output_bias_grad += output_grad\n",
        "\t# backprop into h\n",
        "    dh = output_weights_V.T @ output_grad + hidden_state_next_grad\n",
        "    # backprop through tanh nonlinearity\n",
        "dhraw = (1 - hidden_states[t] * hidden_states[t]) * dh\n",
        "    hidden_bias_grad += dhraw\n",
        "    input_weights_U_grad += dhraw @ xs[t].T\n",
        "    hidden_weights_W_grad += dhraw @ hidden_states[t-1].T\n",
        "    hidden_state_next_grad = hidden_weights_W.T @ dhraw\n"
      ],
      "metadata": {
        "id": "y7eWnP3Tw6gc"
      },
      "execution_count": null,
      "outputs": []
    },
    {
      "cell_type": "code",
      "source": [
        "for param_grad in [input_weights_U_grad, hidden_weights_W_grad, \\\n",
        "output_weights_V_grad, hidden_bias_grad, output_bias_grad]:\n",
        "    # clip to mitigate exploding gradients\n",
        "    np.clip(param_grad, -5, 5, out=param_grad)\n",
        "\n",
        "return loss, input_weights_U_grad, hidden_weights_W_grad,\\\n",
        "output_weights_V_grad, hidden_bias_grad, output_bias_grad,\\\n",
        "hidden_states[len(inputs)-1]\n"
      ],
      "metadata": {
        "id": "iHak_iyZxCvS"
      },
      "execution_count": null,
      "outputs": []
    },
    {
      "cell_type": "code",
      "source": [
        "while(n <= 1000):\n",
        "  print(n)\n",
        "  # prepare inputs\n",
        "  # sweeping from left to right in steps seq_length long)\n",
        "  if p+seq_length+1 >= len(data) or n == 0:\n",
        "# reset RNN memory\n",
        "    hidden_state_prev = np.zeros((hidden_size,1))\n",
        "\t# go from start of data\n",
        "p = 0\n",
        "inputs = [char_to_ix[ch] for ch in data[p:p+seq_length]]\n",
        "    targets = [char_to_ix[ch] for ch in data[p+1:p+seq_length+1]]\n",
        "  # sample from the model now and then\n",
        "  if n % 100 == 0:\n",
        "    sample_ix = sample(hidden_state_prev, inputs[0], 200)\n",
        "    txt = ''.join(ix_to_char[ix] for ix in sample_ix)\n",
        "    print('----\\n %s \\n----' % (txt, ))\n",
        "  # forward seq_length characters through the net\n",
        "  # and fetch gradient\n",
        "  loss, input_weights_U_grad, hidden_weights_W_grad,\\\n",
        "     output_weights_V_grad, hidden_bias_grad,output_bias_grad,\\\n",
        "     hidden_state_prev =\\\n",
        "     RNNcore(inputs,targets,hidden_state_prev)\\\n",
        "     smooth_loss = smooth_loss * 0.999 + loss * 0.001\n",
        "  if n % 100 == 0:\n",
        " # print progress\n",
        "     print('iter %d, loss: %f' % (n, smooth_loss))\n",
        "\n",
        "  # perform parameter update with Adagrad\n",
        "  for param, param_grad in zip([input_weights_U,\\\n",
        "     hidden_weights_W, output_weights_V, hidden_bias,\\\n",
        "     output_bias],[input_weights_U_grad,hidden_weights_W_grad,\\\n",
        "     output_weights_V_grad,hidden_bias_grad,\\\n",
        "     output_bias_grad]):\n",
        "    \t\tparam += -learning_rate * param_grad\n",
        "  p += seq_length # move data pointer\n",
        "  n += 1 # iteration counter"
      ],
      "metadata": {
        "id": "1yIb9Ko0v7bQ"
      },
      "execution_count": null,
      "outputs": []
    },
    {
      "cell_type": "code",
      "source": [
        "def sample(h, seed_ix, n):\n",
        "  \"\"\"\n",
        "  sample a sequence of integers from the model\n",
        "  h is hidden memory state, seed_ix is seed letter for first time step\n",
        "  \"\"\"\n",
        "  x = np.zeros((vocab_size, 1))\n",
        "  x[seed_ix] = 1\n",
        "  ixes = []\n",
        "  for t in range(n):\n",
        "    h = np.tanh(input_weights_U @ x + hidden_weights_W @ h +\\\n",
        " hidden_bias)\n",
        "    y = output_weights_V @ h + output_bias\n",
        "    p = np.exp(y) / np.sum(np.exp(y))\n",
        "    ix = np.random.choice(range(vocab_size), p=p.ravel())\n",
        "    x = np.zeros((vocab_size, 1))\n",
        "    x[ix] = 1\n",
        "    ixes.append(ix)\n",
        "  return ixes"
      ],
      "metadata": {
        "id": "ESbIn6frxQq9"
      },
      "execution_count": null,
      "outputs": []
    }
  ]
}